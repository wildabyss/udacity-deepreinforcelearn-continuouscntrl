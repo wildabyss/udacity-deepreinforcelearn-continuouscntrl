{
 "cells": [
  {
   "cell_type": "markdown",
   "metadata": {},
   "source": [
    "# Continuous Control\n",
    "\n",
    "---\n",
    "\n",
    "In this notebook, you will learn how to use the Unity ML-Agents environment for the second project of the [Deep Reinforcement Learning Nanodegree](https://www.udacity.com/course/deep-reinforcement-learning-nanodegree--nd893) program.\n",
    "\n",
    "### 1. Start the Environment\n",
    "\n",
    "We begin by importing the necessary packages.  If the code cell below returns an error, please revisit the project instructions to double-check that you have installed [Unity ML-Agents](https://github.com/Unity-Technologies/ml-agents/blob/master/docs/Installation.md) and [NumPy](http://www.numpy.org/)."
   ]
  },
  {
   "cell_type": "code",
   "execution_count": 1,
   "metadata": {},
   "outputs": [],
   "source": [
    "# Restart kernel after this\n",
    "#!pip310 install ."
   ]
  },
  {
   "cell_type": "code",
   "execution_count": 2,
   "metadata": {},
   "outputs": [],
   "source": [
    "from unityagents import UnityEnvironment\n",
    "import numpy as np"
   ]
  },
  {
   "cell_type": "markdown",
   "metadata": {},
   "source": [
    "Next, we will start the environment!  **_Before running the code cell below_**, change the `file_name` parameter to match the location of the Unity environment that you downloaded.\n",
    "\n",
    "- **Mac**: `\"path/to/Reacher.app\"`\n",
    "- **Windows** (x86): `\"path/to/Reacher_Windows_x86/Reacher.exe\"`\n",
    "- **Windows** (x86_64): `\"path/to/Reacher_Windows_x86_64/Reacher.exe\"`\n",
    "- **Linux** (x86): `\"path/to/Reacher_Linux/Reacher.x86\"`\n",
    "- **Linux** (x86_64): `\"path/to/Reacher_Linux/Reacher.x86_64\"`\n",
    "- **Linux** (x86, headless): `\"path/to/Reacher_Linux_NoVis/Reacher.x86\"`\n",
    "- **Linux** (x86_64, headless): `\"path/to/Reacher_Linux_NoVis/Reacher.x86_64\"`\n",
    "\n",
    "For instance, if you are using a Mac, then you downloaded `Reacher.app`.  If this file is in the same folder as the notebook, then the line below should appear as follows:\n",
    "```\n",
    "env = UnityEnvironment(file_name=\"Reacher.app\")\n",
    "```\n",
    "\n",
    "Everything that follows assumes we are using the multi-agent version of the Reacher environment ([download the Windows environment here](https://s3-us-west-1.amazonaws.com/udacity-drlnd/P2/Reacher/Reacher_Windows_x86_64.zip))."
   ]
  },
  {
   "cell_type": "code",
   "execution_count": 3,
   "metadata": {},
   "outputs": [
    {
     "name": "stderr",
     "output_type": "stream",
     "text": [
      "INFO:unityagents:\n",
      "'Academy' started successfully!\n",
      "Unity Academy name: Academy\n",
      "        Number of Brains: 1\n",
      "        Number of External Brains : 1\n",
      "        Lesson number : 0\n",
      "        Reset Parameters :\n",
      "\t\tgoal_speed -> 1.0\n",
      "\t\tgoal_size -> 5.0\n",
      "Unity brain name: ReacherBrain\n",
      "        Number of Visual Observations (per agent): 0\n",
      "        Vector Observation space type: continuous\n",
      "        Vector Observation space size (per agent): 33\n",
      "        Number of stacked Vector Observation: 1\n",
      "        Vector Action space type: continuous\n",
      "        Vector Action space size (per agent): 4\n",
      "        Vector Action descriptions: , , , \n"
     ]
    }
   ],
   "source": [
    "env = UnityEnvironment(file_name='Reacher_Windows_x86_64/Reacher.exe', no_graphics=True)"
   ]
  },
  {
   "cell_type": "markdown",
   "metadata": {},
   "source": [
    "Environments contain **_brains_** which are responsible for deciding the actions of their associated agents. Here we check for the first brain available, and set it as the default brain we will be controlling from Python."
   ]
  },
  {
   "cell_type": "code",
   "execution_count": 4,
   "metadata": {},
   "outputs": [],
   "source": [
    "# get the default brain\n",
    "brain_name = env.brain_names[0]\n",
    "brain = env.brains[brain_name]"
   ]
  },
  {
   "cell_type": "markdown",
   "metadata": {},
   "source": [
    "### 2. Examine the State and Action Spaces\n",
    "\n",
    "In this environment, a double-jointed arm can move to target locations. A reward of `+0.1` is provided for each step that the agent's hand is in the goal location. Thus, the goal of your agent is to maintain its position at the target location for as many time steps as possible.\n",
    "\n",
    "The observation space consists of `33` variables corresponding to position, rotation, velocity, and angular velocities of the arm.  Each action is a vector with four numbers, corresponding to torque applicable to two joints.  Every entry in the action vector must be a number between `-1` and `1`.\n",
    "\n",
    "Run the code cell below to print some information about the environment."
   ]
  },
  {
   "cell_type": "code",
   "execution_count": 5,
   "metadata": {},
   "outputs": [
    {
     "name": "stdout",
     "output_type": "stream",
     "text": [
      "Number of agents: 20\n",
      "Size of each action: 4\n",
      "There are 20 agents. Each observes a state with length: 33\n",
      "The state for the first agent looks like: [ 0.00000000e+00 -4.00000000e+00  0.00000000e+00  1.00000000e+00\n",
      " -0.00000000e+00 -0.00000000e+00 -4.37113883e-08  0.00000000e+00\n",
      "  0.00000000e+00  0.00000000e+00  0.00000000e+00  0.00000000e+00\n",
      "  0.00000000e+00  0.00000000e+00 -1.00000000e+01  0.00000000e+00\n",
      "  1.00000000e+00 -0.00000000e+00 -0.00000000e+00 -4.37113883e-08\n",
      "  0.00000000e+00  0.00000000e+00  0.00000000e+00  0.00000000e+00\n",
      "  0.00000000e+00  0.00000000e+00  5.75471878e+00 -1.00000000e+00\n",
      "  5.55726624e+00  0.00000000e+00  1.00000000e+00  0.00000000e+00\n",
      " -1.68164849e-01]\n"
     ]
    }
   ],
   "source": [
    "# reset the environment\n",
    "env_info = env.reset(train_mode=True)[brain_name]\n",
    "\n",
    "# number of agents\n",
    "num_agents = len(env_info.agents)\n",
    "print('Number of agents:', num_agents)\n",
    "\n",
    "# size of each action\n",
    "action_size = brain.vector_action_space_size\n",
    "print('Size of each action:', action_size)\n",
    "\n",
    "# examine the state space \n",
    "states = env_info.vector_observations\n",
    "state_size = states.shape[1]\n",
    "print('There are {} agents. Each observes a state with length: {}'.format(states.shape[0], state_size))\n",
    "print('The state for the first agent looks like:', states[0])"
   ]
  },
  {
   "cell_type": "markdown",
   "metadata": {},
   "source": [
    "### 3. Take Random Actions in the Environment\n",
    "\n",
    "In the next code cell, you will learn how to use the Python API to control the agent and receive feedback from the environment.\n",
    "\n",
    "Once this cell is executed, you will watch the agent's performance, if it selects an action at random with each time step.  A window should pop up that allows you to observe the agent, as it moves through the environment.  \n",
    "\n",
    "Of course, as part of the project, you'll have to change the code so that the agent is able to use its experience to gradually choose better actions when interacting with the environment!"
   ]
  },
  {
   "cell_type": "code",
   "execution_count": 6,
   "metadata": {},
   "outputs": [],
   "source": [
    "SKIP_RANDOM = True\n",
    "\n",
    "if not SKIP_RANDOM:\n",
    "\n",
    "    env_info = env.reset(train_mode=False)[brain_name]     # reset the environment    \n",
    "    states = env_info.vector_observations                  # get the current state (for each agent)\n",
    "    scores = np.zeros(num_agents)                          # initialize the score (for each agent)\n",
    "    while True:\n",
    "        actions = np.random.randn(num_agents, action_size) # select an action (for each agent)\n",
    "        actions = np.clip(actions, -1, 1)                  # all actions between -1 and 1\n",
    "        env_info = env.step(actions)[brain_name]           # send all actions to tne environment\n",
    "        next_states = env_info.vector_observations         # get next state (for each agent)\n",
    "        rewards = env_info.rewards                         # get reward (for each agent)\n",
    "        dones = env_info.local_done                        # see if episode finished\n",
    "        scores += env_info.rewards                         # update the score (for each agent)\n",
    "        states = next_states                               # roll over states to next time step\n",
    "        if np.any(dones):                                  # exit loop if episode finished\n",
    "            break\n",
    "    print('Total score (averaged over agents) this episode: {}'.format(np.mean(scores)))"
   ]
  },
  {
   "cell_type": "markdown",
   "metadata": {},
   "source": [
    "### 4. Train with Deep Deterministic Policy Gradient (DDPG)\n",
    "\n",
    "DDPG is an extension of the Deep Q-Network (DQN) to continuous-action spaces. Q-Learning, including DQN, is restricted by the evaluation of the argmax of the action-value function to discrete action spaces. DDPG circumvents this by using a separate network to find the action corresponding to the action-value maximum. As implemented it has two components:\n",
    "\n",
    "1. An Actor that outputs a vector of continuous actions using the action-value estimated by the Critic\n",
    "2. A Critic that estimates the action-value (Q-value) from the measured state and applied action\n",
    "\n",
    "Each Actor and Critic has a local and target flavour to stabilize the learning. Target weights are sync'ed with the local weights via linear blending at each training step.\n",
    "\n",
    "The state-action-reward-next state tuple is saved into a replay buffer at each time-step. At each training step, which occurs at a lower rate than time-step, a batch of experience tuples are randomly selected to perform the training of actor and critic. In this particular implementation, a good memory and a separate bad memory are implemented whereby good memories store experiences that result in positive reward and bad memories store those that do not. The batch selection ensures that a fixed proportion always gets picked from both the good and the bad. \n",
    "\n",
    "To faciliate exploration during training, an OU process noise, which simulates a zero-mean random walk, is added to each action. The standard deviation of the process noise decays as training progresses to facilitate annealing. "
   ]
  },
  {
   "cell_type": "code",
   "execution_count": 7,
   "metadata": {},
   "outputs": [],
   "source": [
    "from collections import deque\n",
    "import torch\n",
    "from learner.ddpg_agent import Agent\n",
    "import matplotlib.pyplot as plt\n",
    "%matplotlib inline"
   ]
  },
  {
   "cell_type": "code",
   "execution_count": 8,
   "metadata": {},
   "outputs": [],
   "source": [
    "# Hyperparameters\n",
    "\n",
    "REPLAY_BUFFER_SIZE = int(1e6)   # replay buffer size\n",
    "REPLAY_BATCH_SIZE = 120         # minibatch size\n",
    "FUTURE_DISCOUNT = 0.99          # discount factor\n",
    "SOFT_UPDATE_RATE = 1e-3         # soft update rate\n",
    "LR_ACTOR = 1e-4                 # learning rate of the actor \n",
    "LR_CRITIC = 2e-4                # learning rate of the critic\n",
    "WEIGHT_DECAY = 0.0001           # L2 weight decay\n",
    "\n",
    "USE_TWO_MEMS = True             # Whether to separately sample good vs bad experiences\n",
    "GOOD_MEM_RATIO = 0.25           # Good vs bad experience ratio in sampling\n",
    "UNIFORM_SAMPLE_MIN_SCORE = 50   # Minimum score above which we revert to sampling good and bad experiences uniformly\n",
    "\n",
    "ADD_NOISE = True                # Whether to add OU noise\n",
    "NOISE_SIGMA_START = 0.15        # Start of the OU noise standard deviation\n",
    "NOISE_SIGMA_DECAY = 0.98        # Decay rate of the OU standard deviation\n",
    "NOISE_SIGMA_MIN = 0.001         # Minimum of the OU noise standard deviation\n",
    "\n",
    "N_EPISODES = 600\n",
    "MAX_T = 1000\n",
    "VICTORY_SCORE = 30"
   ]
  },
  {
   "cell_type": "code",
   "execution_count": 9,
   "metadata": {},
   "outputs": [
    {
     "name": "stdout",
     "output_type": "stream",
     "text": [
      "Episode 0\tAverage Score: 0.15\n",
      "Episode 10\tAverage Score: 0.11\n",
      "Episode 20\tAverage Score: 0.55\n",
      "Episode 30\tAverage Score: 0.82\n",
      "Episode 40\tAverage Score: 1.08\n",
      "Episode 50\tAverage Score: 1.57\n",
      "Episode 60\tAverage Score: 2.07\n",
      "Episode 70\tAverage Score: 2.61\n",
      "Episode 80\tAverage Score: 3.17\n",
      "Episode 90\tAverage Score: 3.66\n",
      "Episode 100\tAverage Score: 4.33\n",
      "Episode 110\tAverage Score: 5.42\n",
      "Episode 120\tAverage Score: 6.42\n",
      "Episode 130\tAverage Score: 7.38\n",
      "Episode 140\tAverage Score: 8.44\n",
      "Episode 150\tAverage Score: 9.33\n",
      "Episode 160\tAverage Score: 10.20\n",
      "Episode 170\tAverage Score: 11.04\n",
      "Episode 180\tAverage Score: 11.84\n",
      "Episode 190\tAverage Score: 12.59\n",
      "Episode 200\tAverage Score: 13.17\n",
      "Episode 210\tAverage Score: 13.69\n",
      "Episode 220\tAverage Score: 14.25\n",
      "Episode 230\tAverage Score: 14.78\n",
      "Episode 240\tAverage Score: 15.18\n",
      "Episode 250\tAverage Score: 15.65\n",
      "Episode 260\tAverage Score: 15.99\n",
      "Episode 270\tAverage Score: 16.35\n",
      "Episode 280\tAverage Score: 16.98\n",
      "Episode 290\tAverage Score: 17.94\n",
      "Episode 300\tAverage Score: 18.94\n",
      "Episode 310\tAverage Score: 20.13\n",
      "Episode 320\tAverage Score: 21.56\n",
      "Episode 330\tAverage Score: 23.15\n",
      "Episode 340\tAverage Score: 24.79\n",
      "Episode 350\tAverage Score: 26.48\n",
      "Episode 360\tAverage Score: 28.37\n",
      "\n",
      "Environment solved in 269 episodes!\tAverage Score: 30.09\n",
      "Episode 370\tAverage Score: 30.29\n",
      "Episode 380\tAverage Score: 31.90\n",
      "Episode 390\tAverage Score: 33.23\n",
      "Episode 400\tAverage Score: 34.53\n",
      "Episode 410\tAverage Score: 35.56\n",
      "Episode 420\tAverage Score: 36.34\n",
      "Episode 430\tAverage Score: 37.01\n",
      "Episode 440\tAverage Score: 37.58\n",
      "Episode 450\tAverage Score: 38.07\n",
      "Episode 460\tAverage Score: 38.26\n",
      "Episode 470\tAverage Score: 38.43\n",
      "Episode 480\tAverage Score: 38.55\n",
      "Episode 490\tAverage Score: 38.57\n",
      "Episode 500\tAverage Score: 38.60\n",
      "Episode 510\tAverage Score: 38.60\n",
      "Episode 520\tAverage Score: 38.64\n",
      "Episode 530\tAverage Score: 38.62\n",
      "Episode 540\tAverage Score: 38.62\n",
      "Episode 550\tAverage Score: 38.62\n",
      "Episode 560\tAverage Score: 38.74\n",
      "Episode 570\tAverage Score: 38.75\n",
      "Episode 580\tAverage Score: 38.77\n",
      "Episode 590\tAverage Score: 38.80\n"
     ]
    },
    {
     "data": {
      "image/png": "[encoded data removed]",
      "text/plain": [
       "<Figure size 640x480 with 1 Axes>"
      ]
     },
     "metadata": {},
     "output_type": "display_data"
    }
   ],
   "source": [
    "agent = Agent(state_size, action_size, random_seed=5, \n",
    "              replay_buffer_size=REPLAY_BUFFER_SIZE, replay_batch_size=REPLAY_BATCH_SIZE, future_discount=FUTURE_DISCOUNT, soft_update_rate=SOFT_UPDATE_RATE, \n",
    "              lr_actor=LR_ACTOR, lr_critic=LR_CRITIC, weight_decay=WEIGHT_DECAY, add_noise=ADD_NOISE, use_two_mems=USE_TWO_MEMS, good_mem_ratio=GOOD_MEM_RATIO)\n",
    "\n",
    "scores = []                        # list containing scores from each episode\n",
    "scores_window = deque(maxlen=100)  # last 100 scores\n",
    "uniform_sampling = False\n",
    "noise_sigma = NOISE_SIGMA_START\n",
    "solved = False\n",
    "\n",
    "for i_episode in range(N_EPISODES):\n",
    "    env_info = env.reset(train_mode=True)[brain_name]\n",
    "    states = env_info.vector_observations\n",
    "    total_rewards = np.zeros(num_agents)\n",
    "\n",
    "    for t in range(MAX_T):\n",
    "        # Get agent's action per policy\n",
    "        actions = agent.act(states, noise_sigma)\n",
    "\n",
    "        # Apply agent's action to env\n",
    "        env_info = env.step(actions)[brain_name]\n",
    "        next_states = env_info.vector_observations     # get the next state\n",
    "        rewards = env_info.rewards                     # get the reward\n",
    "        dones = env_info.local_done                    # see if episode has finished\n",
    "\n",
    "        # Agent remembers and learns\n",
    "        for n in range(num_agents):\n",
    "            # Only learn once per 2 time steps\n",
    "            perform_learn = (n >= num_agents-1) and (t % 2 == 0)\n",
    "            agent.step(states[n], actions[n], rewards[n], next_states[n], dones[n], perform_learn, uniform_sampling)\n",
    "\n",
    "        states = next_states\n",
    "        total_rewards += rewards\n",
    "        if np.any(dones):\n",
    "            break    \n",
    "\n",
    "    mean_total_reward = np.mean(total_rewards)\n",
    "    scores_window.append(mean_total_reward)       # save most recent score\n",
    "    scores.append(mean_total_reward)              # save most recent score\n",
    "\n",
    "    if i_episode % 10 == 0:\n",
    "        print('\\rEpisode {}\\tAverage Score: {:.2f}'.format(i_episode, np.mean(scores_window)))\n",
    "\n",
    "    if np.mean(scores_window) >= VICTORY_SCORE and not solved:\n",
    "        solved = True\n",
    "        print('\\nEnvironment solved in {:d} episodes!\\tAverage Score: {:.2f}'.format(i_episode-100, np.mean(scores_window)))\n",
    "        torch.save(agent.actor_local.state_dict(), 'trained_weights/solved_actor.pt')\n",
    "        torch.save(agent.critic_local.state_dict(), 'trained_weights/solved_critic.pt')\n",
    "\n",
    "    # Latch uniform sampling once score has reached certain threshold\n",
    "    uniform_sampling = np.mean(scores_window) >= UNIFORM_SAMPLE_MIN_SCORE or uniform_sampling\n",
    "\n",
    "    # Noise helps with exploration, but needs to decay\n",
    "    noise_sigma = max(NOISE_SIGMA_MIN, noise_sigma*NOISE_SIGMA_DECAY)\n",
    "\n",
    "\n",
    "torch.save(agent.actor_local.state_dict(), 'trained_weights/termination_actor.pt')\n",
    "torch.save(agent.critic_local.state_dict(), 'trained_weights/termination_critic.pt')\n",
    "\n",
    "# plot the scores\n",
    "fig = plt.figure()\n",
    "ax = fig.add_subplot(111)\n",
    "plt.plot(np.arange(len(scores)), scores)\n",
    "plt.ylabel('Mean Score')\n",
    "plt.xlabel('Episode #')\n",
    "plt.savefig('plots/Scores.png')\n",
    "\n",
    "env.close()"
   ]
  },
  {
   "cell_type": "markdown",
   "metadata": {},
   "source": [
    "### 4. Watch the Smart Agent\n",
    "\n",
    "Restart kernel if running this right after training to reload Unity."
   ]
  },
  {
   "cell_type": "code",
   "execution_count": 1,
   "metadata": {},
   "outputs": [
    {
     "name": "stderr",
     "output_type": "stream",
     "text": [
      "INFO:unityagents:\n",
      "'Academy' started successfully!\n",
      "Unity Academy name: Academy\n",
      "        Number of Brains: 1\n",
      "        Number of External Brains : 1\n",
      "        Lesson number : 0\n",
      "        Reset Parameters :\n",
      "\t\tgoal_size -> 5.0\n",
      "\t\tgoal_speed -> 1.0\n",
      "Unity brain name: ReacherBrain\n",
      "        Number of Visual Observations (per agent): 0\n",
      "        Vector Observation space type: continuous\n",
      "        Vector Observation space size (per agent): 33\n",
      "        Number of stacked Vector Observation: 1\n",
      "        Vector Action space type: continuous\n",
      "        Vector Action space size (per agent): 4\n",
      "        Vector Action descriptions: , , , \n",
      "W:\\Temp\\ipykernel_27544\\1499157691.py:16: FutureWarning: You are using `torch.load` with `weights_only=False` (the current default value), which uses the default pickle module implicitly. It is possible to construct malicious pickle data which will execute arbitrary code during unpickling (See https://github.com/pytorch/pytorch/blob/main/SECURITY.md#untrusted-models for more details). In a future release, the default value for `weights_only` will be flipped to `True`. This limits the functions that could be executed during unpickling. Arbitrary objects will no longer be allowed to be loaded via this mode unless they are explicitly allowlisted by the user via `torch.serialization.add_safe_globals`. We recommend you start setting `weights_only=True` for any use case where you don't have full control of the loaded file. Please open an issue on GitHub for any issues related to this experimental feature.\n",
      "  agent.actor_local.load_state_dict(torch.load('trained_weights/solved_actor.pt'))\n",
      "W:\\Temp\\ipykernel_27544\\1499157691.py:17: FutureWarning: You are using `torch.load` with `weights_only=False` (the current default value), which uses the default pickle module implicitly. It is possible to construct malicious pickle data which will execute arbitrary code during unpickling (See https://github.com/pytorch/pytorch/blob/main/SECURITY.md#untrusted-models for more details). In a future release, the default value for `weights_only` will be flipped to `True`. This limits the functions that could be executed during unpickling. Arbitrary objects will no longer be allowed to be loaded via this mode unless they are explicitly allowlisted by the user via `torch.serialization.add_safe_globals`. We recommend you start setting `weights_only=True` for any use case where you don't have full control of the loaded file. Please open an issue on GitHub for any issues related to this experimental feature.\n",
      "  agent.critic_local.load_state_dict(torch.load('trained_weights/solved_critic.pt'))\n"
     ]
    },
    {
     "name": "stdout",
     "output_type": "stream",
     "text": [
      "Mean Total Score: 39.04\n"
     ]
    }
   ],
   "source": [
    "from unityagents import UnityEnvironment\n",
    "from learner.ddpg_agent import Agent\n",
    "import numpy as np\n",
    "import torch\n",
    "\n",
    "env = UnityEnvironment(file_name='Reacher_Windows_x86_64/Reacher.exe', no_graphics=False, worker_id = 100)\n",
    "brain_name = env.brain_names[0]\n",
    "brain = env.brains[brain_name]\n",
    "env_info = env.reset(train_mode=False)[brain_name]\n",
    "states = env_info.vector_observations\n",
    "\n",
    "num_agents = len(env_info.agents)\n",
    "action_size = brain.vector_action_space_size\n",
    "state_size = states.shape[1]\n",
    "agent = Agent(state_size, action_size, add_noise=False)\n",
    "agent.actor_local.load_state_dict(torch.load('trained_weights/solved_actor.pt'))\n",
    "agent.critic_local.load_state_dict(torch.load('trained_weights/solved_critic.pt'))\n",
    "\n",
    "total_rewards = np.zeros(num_agents)\n",
    "for t in range(1000):\n",
    "    actions = agent.act(states)\n",
    "    env_info = env.step(actions)[brain_name]\n",
    "    states = env_info.vector_observations\n",
    "    dones = env_info.local_done\n",
    "    total_rewards += env_info.rewards\n",
    "    if np.any(dones):\n",
    "        break \n",
    "            \n",
    "print('\\rMean Total Score: {:.2f}'.format(np.mean(total_rewards)))\n",
    "env.close()"
   ]
  }
 ],
 "metadata": {
  "kernelspec": {
   "display_name": "Python 3",
   "language": "python",
   "name": "python3"
  },
  "language_info": {
   "codemirror_mode": {
    "name": "ipython",
    "version": 3
   },
   "file_extension": ".py",
   "mimetype": "text/x-python",
   "name": "python",
   "nbconvert_exporter": "python",
   "pygments_lexer": "ipython3",
   "version": "3.10.0rc2"
  }
 },
 "nbformat": 4,
 "nbformat_minor": 2
}
